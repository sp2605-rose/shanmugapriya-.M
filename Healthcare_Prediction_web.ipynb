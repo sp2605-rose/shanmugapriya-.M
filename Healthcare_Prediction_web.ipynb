{
  "nbformat": 4,
  "nbformat_minor": 0,
  "metadata": {
    "colab": {
      "provenance": [],
      "authorship_tag": "ABX9TyPKw1nyxx7EETpYsE3rmVUe",
      "include_colab_link": true
    },
    "kernelspec": {
      "name": "python3",
      "display_name": "Python 3"
    },
    "language_info": {
      "name": "python"
    }
  },
  "cells": [
    {
      "cell_type": "markdown",
      "metadata": {
        "id": "view-in-github",
        "colab_type": "text"
      },
      "source": [
        "<a href=\"https://colab.research.google.com/github/sp2605-rose/shanmugapriya-.M/blob/main/Healthcare_Prediction_web.ipynb\" target=\"_parent\"><img src=\"https://colab.research.google.com/assets/colab-badge.svg\" alt=\"Open In Colab\"/></a>"
      ]
    },
    {
      "cell_type": "code",
      "execution_count": null,
      "metadata": {
        "colab": {
          "base_uri": "https://localhost:8080/",
          "height": 650
        },
        "id": "AhYPRigFWZYE",
        "outputId": "2b4a1fd7-361e-41a9-ac85-56a875b6ea2e"
      },
      "outputs": [
        {
          "output_type": "stream",
          "name": "stdout",
          "text": [
            "It looks like you are running Gradio on a hosted a Jupyter notebook. For the Gradio app to work, sharing must be enabled. Automatically setting `share=True` (you can turn this off by setting `share=False` in `launch()` explicitly).\n",
            "\n",
            "Colab notebook detected. This cell will run indefinitely so that you can see errors and logs. To turn off, set debug=False in launch().\n",
            "* Running on public URL: https://9167d7e864fdb07f4b.gradio.live\n",
            "\n",
            "This share link expires in 1 week. For free permanent hosting and GPU upgrades, run `gradio deploy` from the terminal in the working directory to deploy to Hugging Face Spaces (https://huggingface.co/spaces)\n"
          ]
        },
        {
          "output_type": "display_data",
          "data": {
            "text/plain": [
              "<IPython.core.display.HTML object>"
            ],
            "text/html": [
              "<div><iframe src=\"https://9167d7e864fdb07f4b.gradio.live\" width=\"100%\" height=\"500\" allow=\"autoplay; camera; microphone; clipboard-read; clipboard-write;\" frameborder=\"0\" allowfullscreen></iframe></div>"
            ]
          },
          "metadata": {}
        }
      ],
      "source": [
        "import gradio as gr\n",
        "import pandas as pd\n",
        "from sklearn.preprocessing import LabelEncoder, StandardScaler\n",
        "from sklearn.linear_model import LogisticRegression # Assuming a simple model for demonstration\n",
        "\n",
        "def predict_health(age, gender, Blood_Type, Medical_Condition, Doctor, Discharge_Date):\n",
        "    # Create a DataFrame from the input values\n",
        "    input_data = pd.DataFrame({\n",
        "        'Age': [age],\n",
        "        'Gender': [gender],\n",
        "        'Blood Type': [Blood_Type],\n",
        "        'Medical Condition': [Medical_Condition],\n",
        "        'Doctor': [Doctor],\n",
        "        'Discharge Date': [Discharge_Date]\n",
        "    })\n",
        "\n",
        "    # Add missing columns with placeholder values\n",
        "    missing_cols = set(X_columns) - set(input_data.columns)\n",
        "    for c in missing_cols:\n",
        "        # Using a placeholder value like 0 or the mean/mode of the training data for the missing columns\n",
        "        # For simplicity, we'll use 0 here. A more robust solution might use the mean/mode.\n",
        "        input_data[c] = 0\n",
        "\n",
        "    # Ensure the order of columns is the same as X_columns\n",
        "    input_data = input_data[X_columns]\n",
        "\n",
        "    # Encode categorical features using the same LabelEncoders from training\n",
        "    for col in label_encoders.keys():\n",
        "        if col in input_data.columns:\n",
        "            # Handle potential unseen values during prediction\n",
        "            try:\n",
        "                input_data[col] = label_encoders[col].transform(input_data[col])\n",
        "            except ValueError:\n",
        "                # If a value is not in the trained classes, you might want to handle it\n",
        "                # by assigning a default value or raising an error.\n",
        "                # Here, we'll assign a value that won't cause an immediate crash,\n",
        "                # but you should consider how to handle this in your real application.\n",
        "                input_data[col] = -1 # Or some other indicator for unseen data\n",
        "\n",
        "    # Scale the input features using the same scaler from training\n",
        "    scaled_input = scaler.transform(input_data)\n",
        "\n",
        "    # Make the prediction\n",
        "    prediction = model.predict(scaled_input)[0]\n",
        "    return prediction\n",
        "\n",
        "\n",
        "# --- Placeholder code for defining label_encoders, X, scaler, and model ---\n",
        "# You should replace this with your actual training code that defines these variables.\n",
        "data = {'Age': [30, 45, 25, 50, 35],\n",
        "        'Gender': ['Male', 'Female', 'Female', 'Male', 'Female'],\n",
        "        'Blood Type': ['A', 'B', 'O', 'AB', 'A'],\n",
        "        'Medical Condition': ['Diabetes', 'Hypertension', 'Asthma', 'Cancer', 'Diabetes'],\n",
        "        'Doctor': ['Dr. Smith', 'Dr. Jones', 'Dr. Adams', 'Dr. Smith', 'Dr. Jones'],\n",
        "        'Discharge Date': ['2023-01-15', '2023-02-20', '2023-03-10', '2023-04-05', '2023-05-01'],\n",
        "        'Health Status': ['Good', 'Fair', 'Good', 'Poor', 'Fair']} # Target variable\n",
        "\n",
        "df = pd.DataFrame(data)\n",
        "\n",
        "# Assume 'Health Status' is the target variable\n",
        "X = df.drop('Health Status', axis=1)\n",
        "y = df['Health Status']\n",
        "\n",
        "# Store the column names before scaling\n",
        "X_columns = X.columns\n",
        "\n",
        "\n",
        "label_encoders = {}\n",
        "categorical_cols = ['Gender', 'Blood Type', 'Medical Condition', 'Doctor', 'Discharge Date']\n",
        "for col in categorical_cols:\n",
        "    label_encoders[col] = LabelEncoder()\n",
        "    X[col] = label_encoders[col].fit_transform(X[col])\n",
        "\n",
        "scaler = StandardScaler()\n",
        "X = scaler.fit_transform(X)\n",
        "\n",
        "# Train a simple model (replace with your actual model training)\n",
        "model = LogisticRegression()\n",
        "model.fit(X, y)\n",
        "# --- End of placeholder code ---\n",
        "\n",
        "\n",
        "# Create the Gradio interface\n",
        "iface = gr.Interface(\n",
        "    fn=predict_health,\n",
        "    inputs=[\n",
        "        gr.Number(label=\"Age\"),\n",
        "        gr.Dropdown(choices=label_encoders['Gender'].classes_.tolist(), label=\"Gender\"),  # Use 'Gender' here\n",
        "        gr.Dropdown(choices=label_encoders['Blood Type'].classes_.tolist(), label=\"Blood Type\"),\n",
        "        gr.Dropdown(choices=label_encoders['Medical Condition'].classes_.tolist(), label=\"Medical Condition\"),\n",
        "        gr.Dropdown(choices=label_encoders['Doctor'].classes_.tolist(), label=\"Doctor\"),\n",
        "        gr.Dropdown(choices=label_encoders['Discharge Date'].classes_.tolist(), label=\"Discharge Date\"),\n",
        "\n",
        "    ],\n",
        "    outputs=gr.Textbox(label=\"Health Status Prediction\"),\n",
        "    title=\"Healthcare Prediction\",\n",
        "    description=\"Predict health status based on provided information.\"\n",
        ")\n",
        "\n",
        "iface.launch(debug=True)"
      ]
    }
  ]
}